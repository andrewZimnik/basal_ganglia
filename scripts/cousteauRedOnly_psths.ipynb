{
 "cells": [
  {
   "cell_type": "markdown",
   "source": [
    "## Parse single-trial spikes/forces, save to .mat\n",
    "    - Generate from single-trial spikes provided by Elom\n",
    "    - No filtering of trials was performed\n",
    "    - Need a time mask and a condition mask\n",
    "    - also make vector of trial-average forces"
   ],
   "metadata": {
    "collapsed": false
   }
  },
  {
   "cell_type": "code",
   "execution_count": 1,
   "metadata": {
    "collapsed": true
   },
   "outputs": [],
   "source": [
    "import pickle\n",
    "import os\n",
    "import pdb\n",
    "import numpy as np\n",
    "from scipy.sparse import coo_matrix\n",
    "import scipy\n",
    "import matplotlib.pyplot as plt"
   ]
  },
  {
   "cell_type": "code",
   "execution_count": 174,
   "outputs": [],
   "source": [
    "# where is the data saved?\n",
    "file_name = '/Users/andrew/Documents/Projects/Churchland/Pacman/data/cousteau/processed/redOnly_MC/Cousteau_single_trial_data.pkl'\n",
    "\n",
    "# open the file\n",
    "with open(file_name, 'rb') as handle:\n",
    "    all_data = pickle.loads(handle.read())\n",
    "\n",
    "# get a list of dates\n",
    "dates = list(all_data.keys())\n",
    "\n",
    "# place all the data in a dictionary keyed by the date\n",
    "session_data = {date: {} for date in dates}\n"
   ],
   "metadata": {
    "collapsed": false
   }
  },
  {
   "cell_type": "code",
   "execution_count": 175,
   "outputs": [],
   "source": [
    "# going to export single-trial spikes and forces. Organization will be [top level directory]/recording date/condition_id\n",
    "\n",
    "# top level directory\n",
    "saveDir = '/Users/andrew/Documents/Projects/Churchland/Pacman/data/cousteau/processed/redOnly_MC/'\n",
    "\n",
    "# cycle through recording dates\n",
    "for session_date, trial_data in all_data.items():\n",
    "\n",
    "    # put all of the spikes and force profiles into a list\n",
    "    for data in trial_data:\n",
    "        condition_id = data['behavior']['condition_id'][0]\n",
    "        current_values = session_data[session_date].get((condition_id,), {\n",
    "            'force': [],\n",
    "            'spikes': []\n",
    "        })\n",
    "        trial_force = data['behavior']['force'][0]\n",
    "        spiking_activity = data['spikes'].toarray()\n",
    "        current_values['force'].append(trial_force)\n",
    "        current_values['spikes'].append(spiking_activity)\n",
    "        session_data[session_date][(condition_id,)] = current_values\n",
    "\n",
    "    # concatenate force and spikes\n",
    "    for key, value in session_data[session_date].items():\n",
    "        stacked_force = np.vstack(value['force'])\n",
    "        stacked_activity = np.stack(value['spikes'])\n",
    "        value['force'] = stacked_force\n",
    "        value['spikes'] = stacked_activity\n",
    "\n",
    "    # cycle through all the conditions and export spikes and forces\n",
    "    # condition ids\n",
    "\n",
    "    # initialize a directory for this session\n",
    "    session_string = session_date.strftime('%y/%m/%d')\n",
    "    sessionDirName = session_string.replace('/','')\n",
    "    os.mkdir(saveDir + sessionDirName)\n",
    "\n",
    "    # directory for saving condition data\n",
    "    sessDir = os.path.join(saveDir, sessionDirName)\n",
    "\n",
    "    for id in list(session_data[session_date].keys()):\n",
    "\n",
    "        # pull out force\n",
    "        force  = session_data[session_date][id]['force']\n",
    "        spikes = session_data[session_date][id]['spikes']\n",
    "\n",
    "        # convert spikes to boolean array\n",
    "        spikes = spikes > 0\n",
    "\n",
    "        # save spikes and force\n",
    "        str_id = str(id)\n",
    "        str_id = str_id.replace('(','')\n",
    "        str_id = str_id.replace(')','')\n",
    "        str_id = str_id.replace(',','')\n",
    "        scipy.io.savemat(sessDir + '/' + 'condition_' + str_id + '.mat', {'force': force, 'spikes':spikes})\n",
    "\n"
   ],
   "metadata": {
    "collapsed": false
   }
  }
 ],
 "metadata": {
  "kernelspec": {
   "display_name": "Python 3",
   "language": "python",
   "name": "python3"
  },
  "language_info": {
   "codemirror_mode": {
    "name": "ipython",
    "version": 2
   },
   "file_extension": ".py",
   "mimetype": "text/x-python",
   "name": "python",
   "nbconvert_exporter": "python",
   "pygments_lexer": "ipython2",
   "version": "2.7.6"
  }
 },
 "nbformat": 4,
 "nbformat_minor": 0
}
